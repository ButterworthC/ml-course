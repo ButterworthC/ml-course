{
 "cells": [
  {
   "cell_type": "markdown",
   "id": "2187cc45",
   "metadata": {},
   "source": [
    "<h1>Unit05 Jaccard coefficients</h1>"
   ]
  },
  {
   "cell_type": "markdown",
   "id": "6f68d35a",
   "metadata": {},
   "source": [
    "<h2>Import libraries</h2>"
   ]
  },
  {
   "cell_type": "code",
   "execution_count": null,
   "id": "c7e896d7",
   "metadata": {},
   "outputs": [],
   "source": [
    "# apparently there's no need"
   ]
  },
  {
   "cell_type": "markdown",
   "id": "cbd85b00",
   "metadata": {},
   "source": [
    "<h2>Define Jaccard function</h2>"
   ]
  },
  {
   "cell_type": "code",
   "execution_count": 1,
   "id": "9a367136",
   "metadata": {},
   "outputs": [],
   "source": [
    "# I had a bit of help from ChatGPT with this:\n",
    "\n",
    "def jaccard_coefficient(set1, set2):\n",
    "    intersection = len(set1.intersection(set2))\n",
    "    union = len(set1.union(set2))\n",
    "    return intersection / union"
   ]
  },
  {
   "cell_type": "markdown",
   "id": "bdd05a9d",
   "metadata": {},
   "source": [
    "<h2>Set up the test results for Jack, Mary, and Jim</h2>"
   ]
  },
  {
   "cell_type": "code",
   "execution_count": 3,
   "id": "1e2a9993",
   "metadata": {},
   "outputs": [],
   "source": [
    "jack_results = {'Fever', 'Test-1'}\n",
    "mary_results = {'Fever', 'Test-1', 'Test-3'}\n",
    "jim_results = {'Fever', 'Cough', 'Test-4'}"
   ]
  },
  {
   "cell_type": "markdown",
   "id": "07e6610b",
   "metadata": {},
   "source": [
    "<h2>Calculate and print Jaccard coefficient for each pair</h2>"
   ]
  },
  {
   "cell_type": "code",
   "execution_count": 4,
   "id": "84c00c09",
   "metadata": {},
   "outputs": [
    {
     "name": "stdout",
     "output_type": "stream",
     "text": [
      "Jaccard coefficient for (Jack, Mary): 0.6666666666666666\n",
      "Jaccard coefficient for (Jack, Jim): 0.25\n",
      "Jaccard coefficient for (Jim, Mary): 0.2\n"
     ]
    }
   ],
   "source": [
    "jack_mary = jaccard_coefficient(jack_results, mary_results)\n",
    "jack_jim = jaccard_coefficient(jack_results, jim_results)\n",
    "jim_mary = jaccard_coefficient(jim_results, mary_results)\n",
    "\n",
    "print(\"Jaccard coefficient for (Jack, Mary):\", jack_mary)\n",
    "print(\"Jaccard coefficient for (Jack, Jim):\", jack_jim)\n",
    "print(\"Jaccard coefficient for (Jim, Mary):\", jim_mary)"
   ]
  },
  {
   "cell_type": "markdown",
   "id": "3dbca3ec",
   "metadata": {},
   "source": [
    "<h1>No!!!</h1>"
   ]
  },
  {
   "cell_type": "code",
   "execution_count": 5,
   "id": "be66cb98",
   "metadata": {},
   "outputs": [
    {
     "name": "stdout",
     "output_type": "stream",
     "text": [
      "Jaccard coefficient for (Jack, Mary): 0.5\n",
      "Jaccard coefficient for (Jack, Jim): 0.6666666666666666\n",
      "Jaccard coefficient for (Jim, Mary): 0.8\n"
     ]
    }
   ],
   "source": [
    "def jaccard_coefficient(f01, f10, f11):\n",
    "    return (f01 + f10) / (f01 + f10 + f11)\n",
    "\n",
    "# Test results for Jack, Mary, and Jim\n",
    "jack_results = [1, 0, 1, 0, 0, 0]\n",
    "mary_results = [1, 0, 1, 1, 1, 0]\n",
    "jim_results = [1, 1, 0, 0, 0, 0]\n",
    "\n",
    "# Counting occurrences for each case\n",
    "f01_jack_mary = sum(1 for i, j in zip(jack_results, mary_results) if i == 0 and j == 1)\n",
    "f10_jack_mary = sum(1 for i, j in zip(jack_results, mary_results) if i == 1 and j == 0)\n",
    "f11_jack_mary = sum(1 for i, j in zip(jack_results, mary_results) if i == 1 and j == 1)\n",
    "\n",
    "f01_jack_jim = sum(1 for i, j in zip(jack_results, jim_results) if i == 0 and j == 1)\n",
    "f10_jack_jim = sum(1 for i, j in zip(jack_results, jim_results) if i == 1 and j == 0)\n",
    "f11_jack_jim = sum(1 for i, j in zip(jack_results, jim_results) if i == 1 and j == 1)\n",
    "\n",
    "f01_jim_mary = sum(1 for i, j in zip(jim_results, mary_results) if i == 0 and j == 1)\n",
    "f10_jim_mary = sum(1 for i, j in zip(jim_results, mary_results) if i == 1 and j == 0)\n",
    "f11_jim_mary = sum(1 for i, j in zip(jim_results, mary_results) if i == 1 and j == 1)\n",
    "\n",
    "# Calculating Jaccard coefficient for each pair\n",
    "jack_mary = jaccard_coefficient(f01_jack_mary, f10_jack_mary, f11_jack_mary)\n",
    "jack_jim = jaccard_coefficient(f01_jack_jim, f10_jack_jim, f11_jack_jim)\n",
    "jim_mary = jaccard_coefficient(f01_jim_mary, f10_jim_mary, f11_jim_mary)\n",
    "\n",
    "print(\"Jaccard coefficient for (Jack, Mary):\", jack_mary)\n",
    "print(\"Jaccard coefficient for (Jack, Jim):\", jack_jim)\n",
    "print(\"Jaccard coefficient for (Jim, Mary):\", jim_mary)"
   ]
  },
  {
   "cell_type": "markdown",
   "id": "2f91345b",
   "metadata": {},
   "source": [
    "<h1>No!!!</h1>"
   ]
  },
  {
   "cell_type": "markdown",
   "id": "5d3cedb6",
   "metadata": {},
   "source": [
    "<table><tr><th>Name</th><th>Gender</th><th>Fever</th><th>Cough</th><th>Test-1</th><th>Test-2</th><th>Test-3</th><th>Test-4</th></tr><tr><td>Jack</td><td>M</td><td>Y</td><td>N</td><td>P</td><td>N</td><td>N</td><td>A</td></tr><tr><td>Mary</td><td>F</td><td>Y</td><td>N</td><td>P</td><td>A</td><td>P</td><td>N</td></tr><tr><td>Jim</td><td>M</td><td>Y</td><td>P</td><td>N</td><td>N</td><td>N</td><td>A</td></tr></table>"
   ]
  },
  {
   "cell_type": "markdown",
   "id": "34dae1dc",
   "metadata": {},
   "source": [
    "<table><tr><th>Name</th><th>Gender</th><th>Fever</th><th>Cough</th><th>Test-1</th><th>Test-2</th><th>Test-3</th><th>Test-4</th></tr><tr><td>Jack</td><td>M</td><td>1</td><td>0</td><td>1</td><td>0</td><td>0</td><td>0</td></tr><tr><td>Mary</td><td>F</td><td>1</td><td>0</td><td>1</td><td>0</td><td>1</td><td>0</td></tr><tr><td>Jim</td><td>M</td><td>1</td><td>1</td><td>0</td><td>0</td><td>0</td><td>0</td></tr></table>"
   ]
  },
  {
   "cell_type": "code",
   "execution_count": 7,
   "id": "99665ae5",
   "metadata": {},
   "outputs": [
    {
     "name": "stdout",
     "output_type": "stream",
     "text": [
      "{0, 1}\n",
      "{0, 1}\n"
     ]
    }
   ],
   "source": [
    "Jack = {1,0,1,0,0,0}\n",
    "Mary = {1,0,1,0,1,0}\n",
    "Jim = {1,1,0,0,0,0}\n",
    "\n",
    "# we're looking to get (Jack, Mary) = 0.33\n",
    "\n",
    "Jack_n_Mary = Jack.intersection(Mary)\n",
    "Jack_U_Mary = Jack.union(Mary)\n",
    "\n",
    "print(Jack_n_Mary)\n",
    "print(Jack_U_Mary)"
   ]
  },
  {
   "cell_type": "code",
   "execution_count": 8,
   "id": "6b940c01",
   "metadata": {},
   "outputs": [
    {
     "name": "stdout",
     "output_type": "stream",
     "text": [
      "J(Jack,Mary) =  1.0\n"
     ]
    }
   ],
   "source": [
    "print('J(Jack,Mary) = ', float(len(Jack_n_Mary))/float(len(Jack_U_Mary)))"
   ]
  },
  {
   "cell_type": "markdown",
   "id": "034e44b7",
   "metadata": {},
   "source": [
    "<h1>No!!!</h1>"
   ]
  },
  {
   "cell_type": "code",
   "execution_count": 9,
   "id": "69c798a5",
   "metadata": {},
   "outputs": [
    {
     "ename": "TypeError",
     "evalue": "jaccard_coefficient() missing 1 required positional argument: 'f11'",
     "output_type": "error",
     "traceback": [
      "\u001b[1;31m---------------------------------------------------------------------------\u001b[0m",
      "\u001b[1;31mTypeError\u001b[0m                                 Traceback (most recent call last)",
      "Cell \u001b[1;32mIn[9], line 3\u001b[0m\n\u001b[0;32m      1\u001b[0m \u001b[38;5;66;03m# try using the ChatGPT function:\u001b[39;00m\n\u001b[1;32m----> 3\u001b[0m j_m \u001b[38;5;241m=\u001b[39m jaccard_coefficient(Jack, Mary)\n\u001b[0;32m      4\u001b[0m \u001b[38;5;28mprint\u001b[39m(\u001b[38;5;124m\"\u001b[39m\u001b[38;5;124mJaccard coefficient for (Jack, Mary):\u001b[39m\u001b[38;5;124m\"\u001b[39m, j_m)\n",
      "\u001b[1;31mTypeError\u001b[0m: jaccard_coefficient() missing 1 required positional argument: 'f11'"
     ]
    }
   ],
   "source": [
    "# try using the ChatGPT function:\n",
    "\n",
    "j_m = jaccard_coefficient(Jack, Mary)\n",
    "print(\"Jaccard coefficient for (Jack, Mary):\", j_m)"
   ]
  }
 ],
 "metadata": {
  "kernelspec": {
   "display_name": "Python 3 (ipykernel)",
   "language": "python",
   "name": "python3"
  },
  "language_info": {
   "codemirror_mode": {
    "name": "ipython",
    "version": 3
   },
   "file_extension": ".py",
   "mimetype": "text/x-python",
   "name": "python",
   "nbconvert_exporter": "python",
   "pygments_lexer": "ipython3",
   "version": "3.11.7"
  }
 },
 "nbformat": 4,
 "nbformat_minor": 5
}
